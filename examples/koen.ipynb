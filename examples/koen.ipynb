{
 "cells": [
  {
   "cell_type": "code",
   "execution_count": 1,
   "id": "61303759-dc38-4e6a-889c-d2b7e6c65438",
   "metadata": {},
   "outputs": [],
   "source": [
    "import numpy as np\n",
    "from scipy.integrate import quad\n",
    "from scipy.stats import norm\n",
    "import matplotlib.pyplot as plt\n",
    "from imf import KoenConvolvedPowerLaw\n",
    "from time import perf_counter"
   ]
  },
  {
   "cell_type": "code",
   "execution_count": 2,
   "id": "745fd348-3663-450e-8012-2d0775f65126",
   "metadata": {},
   "outputs": [],
   "source": [
    "class MassFunction(object):\n",
    "    \"\"\"                                                                         \n",
    "    Generic Mass Function class                                                 \n",
    "                                                                                \n",
    "    (this is mostly meant to be subclassed by other functions, not used itself)\n",
    "    \"\"\"\n",
    "    def __init__(self, mmin=None, mmax=None):\n",
    "        self._mmin = self.default_mmin if mmin is None else mmin\n",
    "        self._mmax = self.default_mmax if mmax is None else mmax\n",
    "\n",
    "    def dndm(self, m, **kwargs):\n",
    "        \"\"\"                                                                     \n",
    "        The differential form of the mass function, d N(M) / dM                 \n",
    "        \"\"\"\n",
    "        return self(m, integral_form=False, **kwargs)\n",
    "\n",
    "    def n_of_m(self, m, **kwargs):\n",
    "        \"\"\"                                                                     \n",
    "        The integral form of the mass function, N(M)                            \n",
    "        \"\"\"\n",
    "        return self(m, integral_form=True, **kwargs)\n",
    "\n",
    "    def mass_weighted(self, m, **kwargs):\n",
    "        return self(m, integral_form=False, **kwargs) * m\n",
    "\n",
    "    def integrate(self, mlow, mhigh, **kwargs):\n",
    "        \"\"\"                                                                     \n",
    "        Integrate the mass function over some range                             \n",
    "        \"\"\"\n",
    "        return scipy.integrate.quad(self, mlow, mhigh)\n",
    "    \n",
    "    def m_integrate(self, mlow, mhigh, **kwargs):\n",
    "        \"\"\"                                                                     \n",
    "        Integrate the mass-weighted mass function over some range (this tells   \n",
    "        you the fraction of mass in the specified range)                        \n",
    "        \"\"\"\n",
    "        return scipy.integrate.quad(self.mass_weighted, mlow, mhigh, **kwargs)\n",
    "\n",
    "    def log_integrate(self, mlow, mhigh, **kwargs):\n",
    "        def logform(x):\n",
    "            return self(x) / x\n",
    "\n",
    "        return scipy.integrate.quad(logform, mlow, mhigh, **kwargs)\n",
    "    \n",
    "    def normalize(self, mmin=None, mmax=None, log=False, **kwargs):\n",
    "        \"\"\"                                                                     \n",
    "        Set self.normfactor such that the integral of the function over the     \n",
    "        range (mmin, mmax) = 1                                                  \n",
    "        \"\"\"\n",
    "        if mmin is None:\n",
    "            mmin = self.mmin\n",
    "        if mmax is None:\n",
    "            mmax = self.mmax\n",
    "\n",
    "        self.normfactor = 1\n",
    "\n",
    "        if log:\n",
    "            integral = self.log_integrate(mmin, mmax, **kwargs)\n",
    "        else:\n",
    "            integral = self.integrate(mmin, mmax, **kwargs)\n",
    "        self.normfactor = 1. / integral[0]\n",
    "\n",
    "        assert self.normfactor > 0\n",
    "\n",
    "    @property\n",
    "    def mmin(self):\n",
    "        return self._mmin\n",
    "\n",
    "    @property\n",
    "    def mmax(self):\n",
    "        return self._mmax"
   ]
  },
  {
   "cell_type": "code",
   "execution_count": 11,
   "id": "84c36b30-479c-4be5-ac5b-e2a9e4b433ce",
   "metadata": {},
   "outputs": [],
   "source": [
    "spot_koc = SpotKoenConvolvedPowerLaw(L,U,gamma,sigma)"
   ]
  },
  {
   "cell_type": "code",
   "execution_count": 3,
   "id": "2bdb3c25-b1a8-4039-a6c3-4f72bd7087af",
   "metadata": {},
   "outputs": [],
   "source": [
    "class SpotKoenConvolvedPowerLaw(MassFunction):\n",
    "    \"\"\"                                                                                                                                                                                                            \n",
    "    Implementaton of convolved errror power-law described in 2009 Koen, Kondlo                                                                                                                                     \n",
    "    paper, Fitting power-law distributions to data with measurement errors.                                                                                                                                        \n",
    "    Equations (3) and (5)                                                                                                                                                                                          \n",
    "                                                                                                                                                                                                                   \n",
    "    Parameters                                                                                                                                                                                                     \n",
    "    ----------                                                                                                                                                                                                     \n",
    "    m: float                                                                                                                                                                                                       \n",
    "        The mass at which to evaluate the function                                                                                                                                                                 \n",
    "    mmin, mmax: floats                                                                                                                                                                                             \n",
    "        The upper and lower bounds for the power law distribution                                                                                                                                                  \n",
    "    gamma: floats                                                                                                                                                                                                  \n",
    "        The specified gamma for the distribution, slope = -gamma - 1                                                                                                                                               \n",
    "    sigma: float or None                                                                                                                                                                                           \n",
    "        specified spread of error, assumes Normal distribution with mean 0 and variance sigma.                                                                                                                     \n",
    "    \"\"\"\n",
    "    default_mmin = 0\n",
    "    default_mmax = np.inf\n",
    "\n",
    "    def __init__(self, mmin, mmax, gamma, sigma):\n",
    "        if mmax < mmin:\n",
    "            raise ValueError(\"mmax must be greater than mmin\")\n",
    "        super().__init__(mmin, mmax)\n",
    "        self.sigma = sigma\n",
    "        self.gamma = gamma\n",
    "\n",
    "    def _coef(self, integral_form):\n",
    "        if integral_form:\n",
    "            return (1 / (self.sigma * np.sqrt(2 * np.pi) * \n",
    "                         (self.mmin**-self.gamma - self.mmax**-self.gamma)))\n",
    "        else:\n",
    "            return (self.gamma / ((self.sigma * np.sqrt(2 * np.pi)) * \n",
    "                                  ((self.mmin**-self.gamma) - \n",
    "                                   (self.mmax**-self.gamma))))\n",
    "    \n",
    "    def _integrand(self, x, y, integral_form):\n",
    "        if integral_form:\n",
    "            return ((self.mmin**-self.gamma - x**-self.gamma) * np.exp(\n",
    "                (-1 / 2) * ((y - x) / self.sigma)**2))\n",
    "        else:\n",
    "            return (x**-(self.gamma + 1)) * np.exp(-.5 * (\n",
    "                (y - x) / self.sigma)**2)\n",
    "        \n",
    "    def _mirror_steps(self):\n",
    "        #Sub-intervals for the integration to capture small changes at both ends                                                                               \n",
    "        x = np.geomspace(self.mmin,self.mmax,100)\n",
    "        mir_x = self.mmax-(x[::-1]-self.mmin)\n",
    "        dx = x[1:]-x[:-1]\n",
    "        break1 = np.searchsorted(dx,self.sigma)\n",
    "        break2 = np.searchsorted(-dx[::-1],-self.sigma)\n",
    "        xpt = x[break1]\n",
    "        mirxpt = mir_x[break2]\n",
    "        x1, x2 = min(xpt,mirxpt), max(xpt,mirxpt)\n",
    "        x = np.append(x[x < x1],np.linspace(x1,x2,\n",
    "                                            int((x2-x1)/self.sigma)))\n",
    "        x = np.append(x,mir_x[mir_x > x2])\n",
    "        return x\n",
    "\n",
    "    def _integrate(self, y, integral_form):\n",
    "        steps = self._mirror_steps()\n",
    "        chunks = []\n",
    "        for i in range(len(steps)-1):\n",
    "            l,u = steps[i],steps[i+1]\n",
    "            area = quad(self._integrand,l,u,args=(y,integral_form))[0]\n",
    "            chunks.append(area)\n",
    "        if integral_form:\n",
    "            ret = self._coef(integral_form) * np.sum(chunks) + norm.cdf(\n",
    "                (y - self.mmax) / self.sigma)\n",
    "        else:\n",
    "            ret = self._coef(integral_form)*np.sum(chunks)\n",
    "        return ret\n",
    "    \n",
    "    def __call__(self, m, integral_form=False):\n",
    "        vector_int = np.vectorize(self._integrate)\n",
    "        m = np.asarray(m)\n",
    "        return vector_int(m, integral_form)"
   ]
  },
  {
   "cell_type": "code",
   "execution_count": 4,
   "id": "064c3989-a9fd-452c-9fd7-b3a9c11386a7",
   "metadata": {},
   "outputs": [],
   "source": [
    "L = 0.03\n",
    "U = 120\n",
    "gamma = 0.9\n",
    "sigma = 0.4"
   ]
  },
  {
   "cell_type": "code",
   "execution_count": 12,
   "id": "69fe6e3f-a429-4bc4-99d5-8801e0cadc3b",
   "metadata": {},
   "outputs": [],
   "source": [
    "int_koc = KoenConvolvedPowerLaw(L,U,gamma,sigma)"
   ]
  },
  {
   "cell_type": "code",
   "execution_count": 10,
   "id": "bc13df29-1beb-4540-b453-f698d1469c63",
   "metadata": {},
   "outputs": [],
   "source": [
    "integral_form = False"
   ]
  },
  {
   "cell_type": "code",
   "execution_count": 13,
   "id": "b641b865-0c28-4ffb-a239-cb918473092e",
   "metadata": {},
   "outputs": [
    {
     "data": {
      "text/plain": [
       "array([8.98705248e-01, 8.99642821e-01, 9.00622218e-01, 9.01639640e-01,\n",
       "       9.02689565e-01, 9.03764339e-01, 9.04853686e-01, 9.05944117e-01,\n",
       "       9.07018225e-01, 9.08053844e-01, 9.09023050e-01, 9.09890983e-01,\n",
       "       9.10614448e-01, 9.11140288e-01, 9.11403485e-01, 9.11324965e-01,\n",
       "       9.10809090e-01, 9.09740829e-01, 9.07982613e-01, 9.05370920e-01,\n",
       "       9.01712677e-01, 8.96781646e-01, 8.90315033e-01, 8.82010737e-01,\n",
       "       8.71525793e-01, 8.58476822e-01, 8.42443578e-01, 8.22976984e-01,\n",
       "       7.99613395e-01, 7.71897066e-01, 7.39412875e-01, 7.01831016e-01,\n",
       "       6.58964443e-01, 6.10837824e-01, 5.57763525e-01, 5.00415351e-01,\n",
       "       4.39884852e-01, 3.77699100e-01, 3.15775405e-01, 2.56291316e-01,\n",
       "       2.01461775e-01, 1.53241798e-01, 1.13009233e-01, 8.13149582e-02,\n",
       "       5.77954886e-02, 4.13051950e-02, 3.02426369e-02, 2.29546427e-02,\n",
       "       1.80630333e-02, 1.46093902e-02, 1.20218537e-02, 9.99210677e-03,\n",
       "       8.35541464e-03, 7.01528319e-03, 5.90774049e-03, 4.98654743e-03,\n",
       "       4.21668700e-03, 3.57091542e-03, 3.02764309e-03, 2.56952447e-03,\n",
       "       2.18247388e-03, 1.85495519e-03, 1.57745514e-03, 1.34208464e-03,\n",
       "       1.14227122e-03, 9.72518475e-04, 8.28215327e-04, 7.05483250e-04,\n",
       "       6.01052704e-04, 5.12162453e-04, 4.36476936e-04, 3.72018090e-04,\n",
       "       3.17108799e-04, 2.70325811e-04, 2.30460373e-04, 1.96485239e-04,\n",
       "       1.67526935e-04, 1.42842399e-04, 1.21799257e-04, 1.03859167e-04,\n",
       "       8.85636997e-05, 7.55223905e-05, 6.44025948e-05, 5.49208787e-05,\n",
       "       4.68357051e-05, 3.99412153e-05, 3.40619417e-05, 2.90483076e-05,\n",
       "       2.47727982e-05, 2.11266998e-05, 1.80173227e-05, 1.53656361e-05,\n",
       "       1.31042528e-05, 1.11757117e-05, 9.53101468e-06, 8.12837915e-06,\n",
       "       6.93217471e-06, 5.91201687e-06, 5.04199433e-06, 2.16086976e-06])"
      ]
     },
     "execution_count": 13,
     "metadata": {},
     "output_type": "execute_result"
    }
   ],
   "source": [
    "spot_koc(np.geomspace(L,U,100),integral_form=integral_form)"
   ]
  },
  {
   "cell_type": "code",
   "execution_count": 14,
   "id": "9d9a939b-4a97-4d6a-bcba-94b91ff418b6",
   "metadata": {},
   "outputs": [
    {
     "data": {
      "text/plain": [
       "array([8.98705248e-01, 8.99642821e-01, 9.00622218e-01, 9.01639640e-01,\n",
       "       9.02689565e-01, 9.03764339e-01, 9.04853686e-01, 9.05944117e-01,\n",
       "       9.07018225e-01, 9.08053844e-01, 9.09023050e-01, 9.09890983e-01,\n",
       "       9.10614448e-01, 9.11140288e-01, 9.11403485e-01, 9.11324965e-01,\n",
       "       9.10809090e-01, 9.09740829e-01, 9.07982613e-01, 9.05370920e-01,\n",
       "       9.01712677e-01, 8.96781646e-01, 8.90315033e-01, 8.82010737e-01,\n",
       "       8.71525793e-01, 8.58476822e-01, 8.42443578e-01, 8.22976984e-01,\n",
       "       7.99613395e-01, 7.71897066e-01, 7.39412875e-01, 7.01831016e-01,\n",
       "       6.58964443e-01, 6.10837824e-01, 5.57763525e-01, 5.00415351e-01,\n",
       "       4.39884852e-01, 3.77699100e-01, 3.15775405e-01, 2.56291316e-01,\n",
       "       2.01461775e-01, 1.53241798e-01, 1.13009233e-01, 8.13149582e-02,\n",
       "       5.77954886e-02, 4.13051950e-02, 3.02426369e-02, 2.29546427e-02,\n",
       "       1.80630333e-02, 1.46093902e-02, 1.20218537e-02, 9.99210677e-03,\n",
       "       8.35541464e-03, 7.01528319e-03, 5.90774049e-03, 4.98654743e-03,\n",
       "       4.21668700e-03, 3.57091542e-03, 3.02764309e-03, 2.56952447e-03,\n",
       "       2.18247388e-03, 1.85495519e-03, 1.57745514e-03, 1.34208464e-03,\n",
       "       1.14227122e-03, 9.72518475e-04, 8.28215327e-04, 7.05483250e-04,\n",
       "       6.01052704e-04, 5.12162453e-04, 4.36476936e-04, 3.72018090e-04,\n",
       "       3.17108799e-04, 2.70325811e-04, 2.30460373e-04, 1.96485239e-04,\n",
       "       1.67526935e-04, 1.42842399e-04, 1.21799257e-04, 1.03859167e-04,\n",
       "       8.85636997e-05, 7.55223905e-05, 6.44025948e-05, 5.49208787e-05,\n",
       "       4.68357051e-05, 3.99412153e-05, 3.40619417e-05, 2.90483076e-05,\n",
       "       2.47727982e-05, 2.11266998e-05, 1.80173227e-05, 1.53656361e-05,\n",
       "       1.31042528e-05, 1.11757117e-05, 9.53101468e-06, 8.12837915e-06,\n",
       "       6.93217471e-06, 5.91201687e-06, 5.04199433e-06, 2.16086976e-06])"
      ]
     },
     "execution_count": 14,
     "metadata": {},
     "output_type": "execute_result"
    }
   ],
   "source": [
    "int_koc(np.geomspace(L,U,100),integral_form=integral_form)"
   ]
  },
  {
   "cell_type": "code",
   "execution_count": null,
   "id": "695c74d5-e749-4659-ab85-b9b82a632400",
   "metadata": {},
   "outputs": [],
   "source": [
    "m = np.geomspace(L,U,200)\n",
    "plt.plot(m,koc(m))\n",
    "#plt.plot(m,koc.mass_weighted(m))\n",
    "plt.xscale('log'); plt.yscale('log')"
   ]
  },
  {
   "cell_type": "code",
   "execution_count": null,
   "id": "0bb19fca-7978-4fa9-af9c-8ec9fb5f8db7",
   "metadata": {},
   "outputs": [],
   "source": [
    "print(koc.integrate(L,U))\n",
    "print(koc.log_integrate(L,U))"
   ]
  },
  {
   "cell_type": "code",
   "execution_count": null,
   "id": "e755ae68-876b-468e-b106-0bb7cbb0fc6b",
   "metadata": {},
   "outputs": [],
   "source": [
    "def steps(L,U,sigma):\n",
    "    x = np.geomspace(L,U,200)\n",
    "    dx = x[1:]-x[:-1]\n",
    "    break1 = np.searchsorted(dx,sigma)\n",
    "    '''\n",
    "    x = np.append(x[:break1],np.linspace(x[break1],U,int((U-L)/sigma)))\n",
    "    '''\n",
    "    mir_x = U-(x[::-1]-L)\n",
    "    break2 = np.searchsorted(-dx[::-1],-sigma)\n",
    "    x = np.append(x[:break1],np.arange(x[break1],mir_x[break2],sigma))\n",
    "    x = np.append(x,mir_x[break2:])\n",
    "    #'''\n",
    "    return x"
   ]
  },
  {
   "cell_type": "code",
   "execution_count": null,
   "id": "8724c5e4-3551-47b0-9662-8117faf88e70",
   "metadata": {},
   "outputs": [],
   "source": [
    "def integrand(x,y,L,U,gamma,sigma,integral_form=False):\n",
    "    if integral_form:\n",
    "        coef = (1 / (sigma * np.sqrt(2 * np.pi) *\n",
    "                     (L**-gamma - U**-gamma)))\n",
    "        ret = ((L**-gamma - x**-gamma) * np.exp(\n",
    "            (-1 / 2) * ((y - x) / sigma)**2))\n",
    "        return coef*ret\n",
    "    else:\n",
    "        coef = (gamma / ((sigma * np.sqrt(2 * np.pi)) *\n",
    "                              ((L**-gamma) - (U**-gamma))))\n",
    "        ret = (x**-(gamma + 1)) * np.exp(-.5 * (\n",
    "            (y - x) / sigma)**2)\n",
    "        return coef*ret        "
   ]
  },
  {
   "cell_type": "code",
   "execution_count": null,
   "id": "afa0c38f-10bb-468a-90c7-bb2a1bea2f85",
   "metadata": {},
   "outputs": [],
   "source": [
    "def force_integrate(L,U,gamma,sigma,integral_form=False):\n",
    "    y = np.geomspace(L,U,100)\n",
    "    x = np.geomspace(L,U,300)\n",
    "    #x = steps(L,U,sigma)\n",
    "    results = []\n",
    "    for val in y:\n",
    "        chunks = []\n",
    "        for i in range(len(x)-1):\n",
    "            l,u = x[i],x[i+1]\n",
    "            area = quad(integrand,l,u,args=(val,L,U,gamma,sigma,integral_form))[0]\n",
    "            chunks.append(area)\n",
    "        if integral_form:\n",
    "            results.append(np.sum(chunks)+norm.cdf((val-U)/sigma))\n",
    "        else:\n",
    "            results.append(np.sum(chunks))\n",
    "    results = np.array(results)\n",
    "    return results,y"
   ]
  },
  {
   "cell_type": "code",
   "execution_count": null,
   "id": "90ee24da-6233-4d48-aac2-197d5fedb00c",
   "metadata": {},
   "outputs": [],
   "source": [
    "pdf,y = force_integrate(L,U,gamma,sigma,integral_form=False)\n",
    "cdf,y = force_integrate(L,U,gamma,sigma,integral_form=True)\n",
    "factor = 1/cdf[-1]\n",
    "#pdf *= factor\n",
    "#cdf *= factor"
   ]
  },
  {
   "cell_type": "code",
   "execution_count": null,
   "id": "d9d26ffa-f852-47fb-ade6-cba7d4a31e88",
   "metadata": {},
   "outputs": [],
   "source": [
    "integral_form = True\n",
    "toplot = cdf if integral_form else pdf\n",
    "plt.plot(y,toplot,label='Me')\n",
    "plt.plot(y,koc(y,integral_form=integral_form),label='Current')\n",
    "plt.xscale('log'); plt.yscale('log')\n",
    "plt.legend()\n",
    "plt.ylim(0.1,1.1)"
   ]
  },
  {
   "cell_type": "code",
   "execution_count": null,
   "id": "83ba6fbf-2888-4cda-a8d6-9fa03fb99471",
   "metadata": {},
   "outputs": [],
   "source": [
    "plt.plot(y,toplot/koc(y,integral_form=integral_form))\n",
    "plt.xscale('log')\n",
    "plt.ylim(0.99,1.01)"
   ]
  },
  {
   "cell_type": "code",
   "execution_count": null,
   "id": "ab0638b8-1ee9-4bd7-9e55-c05264b6f164",
   "metadata": {},
   "outputs": [],
   "source": [
    "div = toplot[1:]/toplot[:-1]\n",
    "plt.plot(y[:-1],div)\n",
    "plt.xscale('log')\n",
    "if len(div[div <= 1] > 0) and integral_form:\n",
    "    print('CDF does not monotonically increase')"
   ]
  },
  {
   "cell_type": "code",
   "execution_count": null,
   "id": "537b9311-31e7-466b-a03d-0e774cc03f2a",
   "metadata": {},
   "outputs": [],
   "source": [
    "factor"
   ]
  },
  {
   "cell_type": "code",
   "execution_count": null,
   "id": "aea46538-0cef-4253-b9aa-40a8f5e52dab",
   "metadata": {},
   "outputs": [],
   "source": [
    "koc.cdf"
   ]
  },
  {
   "cell_type": "code",
   "execution_count": null,
   "id": "6de95d1e-6936-4a17-82a2-89aa119d0583",
   "metadata": {},
   "outputs": [],
   "source": [
    "cdf[-8]"
   ]
  },
  {
   "cell_type": "code",
   "execution_count": null,
   "id": "cad5e492-4f70-4830-8973-5dd942fb01c8",
   "metadata": {},
   "outputs": [],
   "source": []
  }
 ],
 "metadata": {
  "kernelspec": {
   "display_name": "Python 3 (ipykernel)",
   "language": "python",
   "name": "python3"
  },
  "language_info": {
   "codemirror_mode": {
    "name": "ipython",
    "version": 3
   },
   "file_extension": ".py",
   "mimetype": "text/x-python",
   "name": "python",
   "nbconvert_exporter": "python",
   "pygments_lexer": "ipython3",
   "version": "3.7.16"
  }
 },
 "nbformat": 4,
 "nbformat_minor": 5
}
